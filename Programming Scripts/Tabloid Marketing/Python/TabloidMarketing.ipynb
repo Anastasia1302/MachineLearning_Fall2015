{
 "cells": [
  {
   "cell_type": "markdown",
   "metadata": {},
   "source": [
    "# _import modules:_"
   ]
  },
  {
   "cell_type": "code",
   "execution_count": 29,
   "metadata": {
    "collapsed": true
   },
   "outputs": [],
   "source": [
    "# enable In-Line MatPlotLib\n",
    "%matplotlib inline"
   ]
  },
  {
   "cell_type": "code",
   "execution_count": 30,
   "metadata": {
    "collapsed": false
   },
   "outputs": [],
   "source": [
    "# import:\n",
    "from __future__ import division, print_function\n",
    "from matplotlib.pyplot import figure, legend, plot, title\n",
    "from multiprocessing import cpu_count\n",
    "from numpy import exp, float, int, linspace, log, nan, sqrt\n",
    "from os import system\n",
    "from os.path import join\n",
    "from pandas import Categorical, read_csv\n",
    "from random import seed\n",
    "from sklearn.cross_validation import train_test_split\n",
    "from sklearn.ensemble import GradientBoostingClassifier, RandomForestClassifier\n",
    "from sklearn.linear_model import LogisticRegression\n",
    "from sklearn.preprocessing import StandardScaler\n",
    "\n",
    "system('pip install --upgrade git+git://GitHub.com/ChicagoBoothML/Helpy --no-dependencies')\n",
    "from ChicagoBoothML_Helpy.EvaluationMetrics import bin_classif_eval\n",
    "from ChicagoBoothML_Helpy.Print import printflush\n",
    "\n",
    "RANDOM_SEED = 99\n",
    "seed(RANDOM_SEED)"
   ]
  },
  {
   "cell_type": "markdown",
   "metadata": {},
   "source": [
    "# import Tabloid Marketing data set"
   ]
  },
  {
   "cell_type": "code",
   "execution_count": 31,
   "metadata": {
    "collapsed": false
   },
   "outputs": [
    {
     "data": {
      "text/html": [
       "<div>\n",
       "<table border=\"1\" class=\"dataframe\">\n",
       "  <thead>\n",
       "    <tr style=\"text-align: right;\">\n",
       "      <th></th>\n",
       "      <th>purchase</th>\n",
       "      <th>nTab</th>\n",
       "      <th>moCbook</th>\n",
       "      <th>iRecMer1</th>\n",
       "      <th>llDol</th>\n",
       "    </tr>\n",
       "  </thead>\n",
       "  <tbody>\n",
       "    <tr>\n",
       "      <th>0</th>\n",
       "      <td>0</td>\n",
       "      <td>0</td>\n",
       "      <td>50.000000</td>\n",
       "      <td>0.019608</td>\n",
       "      <td>-2.302585</td>\n",
       "    </tr>\n",
       "    <tr>\n",
       "      <th>1</th>\n",
       "      <td>1</td>\n",
       "      <td>4</td>\n",
       "      <td>19.218130</td>\n",
       "      <td>0.049461</td>\n",
       "      <td>3.893452</td>\n",
       "    </tr>\n",
       "    <tr>\n",
       "      <th>2</th>\n",
       "      <td>0</td>\n",
       "      <td>1</td>\n",
       "      <td>50.000000</td>\n",
       "      <td>0.119167</td>\n",
       "      <td>-2.302585</td>\n",
       "    </tr>\n",
       "    <tr>\n",
       "      <th>3</th>\n",
       "      <td>0</td>\n",
       "      <td>1</td>\n",
       "      <td>50.000000</td>\n",
       "      <td>0.019608</td>\n",
       "      <td>-2.302585</td>\n",
       "    </tr>\n",
       "    <tr>\n",
       "      <th>4</th>\n",
       "      <td>0</td>\n",
       "      <td>0</td>\n",
       "      <td>50.000000</td>\n",
       "      <td>0.019608</td>\n",
       "      <td>-2.302585</td>\n",
       "    </tr>\n",
       "    <tr>\n",
       "      <th>5</th>\n",
       "      <td>0</td>\n",
       "      <td>10</td>\n",
       "      <td>50.000000</td>\n",
       "      <td>0.105900</td>\n",
       "      <td>5.153465</td>\n",
       "    </tr>\n",
       "    <tr>\n",
       "      <th>6</th>\n",
       "      <td>0</td>\n",
       "      <td>0</td>\n",
       "      <td>50.000000</td>\n",
       "      <td>0.028096</td>\n",
       "      <td>-2.302585</td>\n",
       "    </tr>\n",
       "    <tr>\n",
       "      <th>7</th>\n",
       "      <td>0</td>\n",
       "      <td>0</td>\n",
       "      <td>50.000000</td>\n",
       "      <td>0.019608</td>\n",
       "      <td>-2.302585</td>\n",
       "    </tr>\n",
       "    <tr>\n",
       "      <th>8</th>\n",
       "      <td>0</td>\n",
       "      <td>0</td>\n",
       "      <td>50.000000</td>\n",
       "      <td>0.373772</td>\n",
       "      <td>-2.302585</td>\n",
       "    </tr>\n",
       "    <tr>\n",
       "      <th>9</th>\n",
       "      <td>0</td>\n",
       "      <td>0</td>\n",
       "      <td>50.000000</td>\n",
       "      <td>0.019608</td>\n",
       "      <td>-2.302585</td>\n",
       "    </tr>\n",
       "    <tr>\n",
       "      <th>10</th>\n",
       "      <td>0</td>\n",
       "      <td>1</td>\n",
       "      <td>43.101180</td>\n",
       "      <td>0.559148</td>\n",
       "      <td>-2.302585</td>\n",
       "    </tr>\n",
       "    <tr>\n",
       "      <th>11</th>\n",
       "      <td>0</td>\n",
       "      <td>0</td>\n",
       "      <td>50.000000</td>\n",
       "      <td>0.019608</td>\n",
       "      <td>-2.302585</td>\n",
       "    </tr>\n",
       "    <tr>\n",
       "      <th>12</th>\n",
       "      <td>0</td>\n",
       "      <td>1</td>\n",
       "      <td>50.000000</td>\n",
       "      <td>0.615696</td>\n",
       "      <td>-2.302585</td>\n",
       "    </tr>\n",
       "    <tr>\n",
       "      <th>13</th>\n",
       "      <td>0</td>\n",
       "      <td>1</td>\n",
       "      <td>50.000000</td>\n",
       "      <td>0.156552</td>\n",
       "      <td>-2.302585</td>\n",
       "    </tr>\n",
       "    <tr>\n",
       "      <th>14</th>\n",
       "      <td>0</td>\n",
       "      <td>4</td>\n",
       "      <td>50.000000</td>\n",
       "      <td>0.398221</td>\n",
       "      <td>-2.302585</td>\n",
       "    </tr>\n",
       "    <tr>\n",
       "      <th>15</th>\n",
       "      <td>0</td>\n",
       "      <td>0</td>\n",
       "      <td>50.000000</td>\n",
       "      <td>0.031793</td>\n",
       "      <td>-2.302585</td>\n",
       "    </tr>\n",
       "    <tr>\n",
       "      <th>16</th>\n",
       "      <td>0</td>\n",
       "      <td>5</td>\n",
       "      <td>50.000000</td>\n",
       "      <td>0.070391</td>\n",
       "      <td>-2.302585</td>\n",
       "    </tr>\n",
       "    <tr>\n",
       "      <th>17</th>\n",
       "      <td>0</td>\n",
       "      <td>0</td>\n",
       "      <td>50.000000</td>\n",
       "      <td>0.019608</td>\n",
       "      <td>-2.302585</td>\n",
       "    </tr>\n",
       "    <tr>\n",
       "      <th>18</th>\n",
       "      <td>0</td>\n",
       "      <td>0</td>\n",
       "      <td>50.000000</td>\n",
       "      <td>0.309224</td>\n",
       "      <td>-2.302585</td>\n",
       "    </tr>\n",
       "    <tr>\n",
       "      <th>19</th>\n",
       "      <td>0</td>\n",
       "      <td>0</td>\n",
       "      <td>50.000000</td>\n",
       "      <td>0.019608</td>\n",
       "      <td>-2.302585</td>\n",
       "    </tr>\n",
       "    <tr>\n",
       "      <th>20</th>\n",
       "      <td>0</td>\n",
       "      <td>0</td>\n",
       "      <td>50.000000</td>\n",
       "      <td>0.259196</td>\n",
       "      <td>-2.302585</td>\n",
       "    </tr>\n",
       "    <tr>\n",
       "      <th>21</th>\n",
       "      <td>0</td>\n",
       "      <td>0</td>\n",
       "      <td>50.000000</td>\n",
       "      <td>0.318944</td>\n",
       "      <td>-2.302585</td>\n",
       "    </tr>\n",
       "    <tr>\n",
       "      <th>22</th>\n",
       "      <td>0</td>\n",
       "      <td>0</td>\n",
       "      <td>50.000000</td>\n",
       "      <td>0.019608</td>\n",
       "      <td>-2.302585</td>\n",
       "    </tr>\n",
       "    <tr>\n",
       "      <th>23</th>\n",
       "      <td>0</td>\n",
       "      <td>0</td>\n",
       "      <td>50.000000</td>\n",
       "      <td>0.019608</td>\n",
       "      <td>-2.302585</td>\n",
       "    </tr>\n",
       "    <tr>\n",
       "      <th>24</th>\n",
       "      <td>0</td>\n",
       "      <td>3</td>\n",
       "      <td>50.000000</td>\n",
       "      <td>0.019608</td>\n",
       "      <td>-2.302585</td>\n",
       "    </tr>\n",
       "    <tr>\n",
       "      <th>25</th>\n",
       "      <td>0</td>\n",
       "      <td>0</td>\n",
       "      <td>50.000000</td>\n",
       "      <td>0.019608</td>\n",
       "      <td>-2.302585</td>\n",
       "    </tr>\n",
       "    <tr>\n",
       "      <th>26</th>\n",
       "      <td>0</td>\n",
       "      <td>0</td>\n",
       "      <td>50.000000</td>\n",
       "      <td>0.019608</td>\n",
       "      <td>-2.302585</td>\n",
       "    </tr>\n",
       "    <tr>\n",
       "      <th>27</th>\n",
       "      <td>0</td>\n",
       "      <td>0</td>\n",
       "      <td>50.000000</td>\n",
       "      <td>0.058377</td>\n",
       "      <td>-2.302585</td>\n",
       "    </tr>\n",
       "    <tr>\n",
       "      <th>28</th>\n",
       "      <td>0</td>\n",
       "      <td>0</td>\n",
       "      <td>50.000000</td>\n",
       "      <td>0.177555</td>\n",
       "      <td>-2.302585</td>\n",
       "    </tr>\n",
       "    <tr>\n",
       "      <th>29</th>\n",
       "      <td>0</td>\n",
       "      <td>0</td>\n",
       "      <td>50.000000</td>\n",
       "      <td>0.019608</td>\n",
       "      <td>-2.302585</td>\n",
       "    </tr>\n",
       "    <tr>\n",
       "      <th>...</th>\n",
       "      <td>...</td>\n",
       "      <td>...</td>\n",
       "      <td>...</td>\n",
       "      <td>...</td>\n",
       "      <td>...</td>\n",
       "    </tr>\n",
       "    <tr>\n",
       "      <th>9970</th>\n",
       "      <td>0</td>\n",
       "      <td>0</td>\n",
       "      <td>50.000000</td>\n",
       "      <td>0.019608</td>\n",
       "      <td>-2.302585</td>\n",
       "    </tr>\n",
       "    <tr>\n",
       "      <th>9971</th>\n",
       "      <td>0</td>\n",
       "      <td>8</td>\n",
       "      <td>7.522996</td>\n",
       "      <td>0.591757</td>\n",
       "      <td>3.691127</td>\n",
       "    </tr>\n",
       "    <tr>\n",
       "      <th>9972</th>\n",
       "      <td>0</td>\n",
       "      <td>0</td>\n",
       "      <td>50.000000</td>\n",
       "      <td>0.019608</td>\n",
       "      <td>-2.302585</td>\n",
       "    </tr>\n",
       "    <tr>\n",
       "      <th>9973</th>\n",
       "      <td>0</td>\n",
       "      <td>3</td>\n",
       "      <td>50.000000</td>\n",
       "      <td>0.019608</td>\n",
       "      <td>-2.302585</td>\n",
       "    </tr>\n",
       "    <tr>\n",
       "      <th>9974</th>\n",
       "      <td>0</td>\n",
       "      <td>0</td>\n",
       "      <td>50.000000</td>\n",
       "      <td>0.051294</td>\n",
       "      <td>-2.302585</td>\n",
       "    </tr>\n",
       "    <tr>\n",
       "      <th>9975</th>\n",
       "      <td>0</td>\n",
       "      <td>1</td>\n",
       "      <td>50.000000</td>\n",
       "      <td>0.038268</td>\n",
       "      <td>-2.302585</td>\n",
       "    </tr>\n",
       "    <tr>\n",
       "      <th>9976</th>\n",
       "      <td>0</td>\n",
       "      <td>0</td>\n",
       "      <td>50.000000</td>\n",
       "      <td>0.019608</td>\n",
       "      <td>-2.302585</td>\n",
       "    </tr>\n",
       "    <tr>\n",
       "      <th>9977</th>\n",
       "      <td>0</td>\n",
       "      <td>1</td>\n",
       "      <td>50.000000</td>\n",
       "      <td>0.019608</td>\n",
       "      <td>-2.302585</td>\n",
       "    </tr>\n",
       "    <tr>\n",
       "      <th>9978</th>\n",
       "      <td>0</td>\n",
       "      <td>0</td>\n",
       "      <td>50.000000</td>\n",
       "      <td>0.022441</td>\n",
       "      <td>-2.302585</td>\n",
       "    </tr>\n",
       "    <tr>\n",
       "      <th>9979</th>\n",
       "      <td>0</td>\n",
       "      <td>2</td>\n",
       "      <td>50.000000</td>\n",
       "      <td>0.019608</td>\n",
       "      <td>-2.302585</td>\n",
       "    </tr>\n",
       "    <tr>\n",
       "      <th>9980</th>\n",
       "      <td>0</td>\n",
       "      <td>0</td>\n",
       "      <td>50.000000</td>\n",
       "      <td>0.019608</td>\n",
       "      <td>-2.302585</td>\n",
       "    </tr>\n",
       "    <tr>\n",
       "      <th>9981</th>\n",
       "      <td>0</td>\n",
       "      <td>2</td>\n",
       "      <td>50.000000</td>\n",
       "      <td>0.044345</td>\n",
       "      <td>-2.302585</td>\n",
       "    </tr>\n",
       "    <tr>\n",
       "      <th>9982</th>\n",
       "      <td>0</td>\n",
       "      <td>0</td>\n",
       "      <td>50.000000</td>\n",
       "      <td>0.019608</td>\n",
       "      <td>-2.302585</td>\n",
       "    </tr>\n",
       "    <tr>\n",
       "      <th>9983</th>\n",
       "      <td>0</td>\n",
       "      <td>0</td>\n",
       "      <td>50.000000</td>\n",
       "      <td>0.019608</td>\n",
       "      <td>-2.302585</td>\n",
       "    </tr>\n",
       "    <tr>\n",
       "      <th>9984</th>\n",
       "      <td>1</td>\n",
       "      <td>14</td>\n",
       "      <td>6.997372</td>\n",
       "      <td>0.297150</td>\n",
       "      <td>-2.302585</td>\n",
       "    </tr>\n",
       "    <tr>\n",
       "      <th>9985</th>\n",
       "      <td>0</td>\n",
       "      <td>0</td>\n",
       "      <td>50.000000</td>\n",
       "      <td>0.019608</td>\n",
       "      <td>-2.302585</td>\n",
       "    </tr>\n",
       "    <tr>\n",
       "      <th>9986</th>\n",
       "      <td>0</td>\n",
       "      <td>0</td>\n",
       "      <td>50.000000</td>\n",
       "      <td>0.019608</td>\n",
       "      <td>-2.302585</td>\n",
       "    </tr>\n",
       "    <tr>\n",
       "      <th>9987</th>\n",
       "      <td>0</td>\n",
       "      <td>0</td>\n",
       "      <td>50.000000</td>\n",
       "      <td>0.019608</td>\n",
       "      <td>-2.302585</td>\n",
       "    </tr>\n",
       "    <tr>\n",
       "      <th>9988</th>\n",
       "      <td>0</td>\n",
       "      <td>0</td>\n",
       "      <td>50.000000</td>\n",
       "      <td>0.019608</td>\n",
       "      <td>-2.302585</td>\n",
       "    </tr>\n",
       "    <tr>\n",
       "      <th>9989</th>\n",
       "      <td>0</td>\n",
       "      <td>2</td>\n",
       "      <td>50.000000</td>\n",
       "      <td>0.044934</td>\n",
       "      <td>-2.302585</td>\n",
       "    </tr>\n",
       "    <tr>\n",
       "      <th>9990</th>\n",
       "      <td>0</td>\n",
       "      <td>0</td>\n",
       "      <td>50.000000</td>\n",
       "      <td>0.028841</td>\n",
       "      <td>-2.302585</td>\n",
       "    </tr>\n",
       "    <tr>\n",
       "      <th>9991</th>\n",
       "      <td>0</td>\n",
       "      <td>0</td>\n",
       "      <td>50.000000</td>\n",
       "      <td>0.236998</td>\n",
       "      <td>-2.302585</td>\n",
       "    </tr>\n",
       "    <tr>\n",
       "      <th>9992</th>\n",
       "      <td>0</td>\n",
       "      <td>0</td>\n",
       "      <td>50.000000</td>\n",
       "      <td>0.040890</td>\n",
       "      <td>-2.302585</td>\n",
       "    </tr>\n",
       "    <tr>\n",
       "      <th>9993</th>\n",
       "      <td>0</td>\n",
       "      <td>0</td>\n",
       "      <td>50.000000</td>\n",
       "      <td>0.019608</td>\n",
       "      <td>-2.302585</td>\n",
       "    </tr>\n",
       "    <tr>\n",
       "      <th>9994</th>\n",
       "      <td>0</td>\n",
       "      <td>2</td>\n",
       "      <td>34.198420</td>\n",
       "      <td>0.028410</td>\n",
       "      <td>-2.302585</td>\n",
       "    </tr>\n",
       "    <tr>\n",
       "      <th>9995</th>\n",
       "      <td>0</td>\n",
       "      <td>0</td>\n",
       "      <td>50.000000</td>\n",
       "      <td>0.019608</td>\n",
       "      <td>-2.302585</td>\n",
       "    </tr>\n",
       "    <tr>\n",
       "      <th>9996</th>\n",
       "      <td>0</td>\n",
       "      <td>0</td>\n",
       "      <td>50.000000</td>\n",
       "      <td>0.019608</td>\n",
       "      <td>-2.302585</td>\n",
       "    </tr>\n",
       "    <tr>\n",
       "      <th>9997</th>\n",
       "      <td>1</td>\n",
       "      <td>10</td>\n",
       "      <td>22.240470</td>\n",
       "      <td>0.373772</td>\n",
       "      <td>4.121635</td>\n",
       "    </tr>\n",
       "    <tr>\n",
       "      <th>9998</th>\n",
       "      <td>0</td>\n",
       "      <td>2</td>\n",
       "      <td>50.000000</td>\n",
       "      <td>0.019608</td>\n",
       "      <td>3.808660</td>\n",
       "    </tr>\n",
       "    <tr>\n",
       "      <th>9999</th>\n",
       "      <td>0</td>\n",
       "      <td>0</td>\n",
       "      <td>50.000000</td>\n",
       "      <td>0.383182</td>\n",
       "      <td>-2.302585</td>\n",
       "    </tr>\n",
       "  </tbody>\n",
       "</table>\n",
       "<p>10000 rows × 5 columns</p>\n",
       "</div>"
      ],
      "text/plain": [
       "     purchase  nTab    moCbook  iRecMer1     llDol\n",
       "0           0     0  50.000000  0.019608 -2.302585\n",
       "1           1     4  19.218130  0.049461  3.893452\n",
       "2           0     1  50.000000  0.119167 -2.302585\n",
       "3           0     1  50.000000  0.019608 -2.302585\n",
       "4           0     0  50.000000  0.019608 -2.302585\n",
       "5           0    10  50.000000  0.105900  5.153465\n",
       "6           0     0  50.000000  0.028096 -2.302585\n",
       "7           0     0  50.000000  0.019608 -2.302585\n",
       "8           0     0  50.000000  0.373772 -2.302585\n",
       "9           0     0  50.000000  0.019608 -2.302585\n",
       "10          0     1  43.101180  0.559148 -2.302585\n",
       "11          0     0  50.000000  0.019608 -2.302585\n",
       "12          0     1  50.000000  0.615696 -2.302585\n",
       "13          0     1  50.000000  0.156552 -2.302585\n",
       "14          0     4  50.000000  0.398221 -2.302585\n",
       "15          0     0  50.000000  0.031793 -2.302585\n",
       "16          0     5  50.000000  0.070391 -2.302585\n",
       "17          0     0  50.000000  0.019608 -2.302585\n",
       "18          0     0  50.000000  0.309224 -2.302585\n",
       "19          0     0  50.000000  0.019608 -2.302585\n",
       "20          0     0  50.000000  0.259196 -2.302585\n",
       "21          0     0  50.000000  0.318944 -2.302585\n",
       "22          0     0  50.000000  0.019608 -2.302585\n",
       "23          0     0  50.000000  0.019608 -2.302585\n",
       "24          0     3  50.000000  0.019608 -2.302585\n",
       "25          0     0  50.000000  0.019608 -2.302585\n",
       "26          0     0  50.000000  0.019608 -2.302585\n",
       "27          0     0  50.000000  0.058377 -2.302585\n",
       "28          0     0  50.000000  0.177555 -2.302585\n",
       "29          0     0  50.000000  0.019608 -2.302585\n",
       "...       ...   ...        ...       ...       ...\n",
       "9970        0     0  50.000000  0.019608 -2.302585\n",
       "9971        0     8   7.522996  0.591757  3.691127\n",
       "9972        0     0  50.000000  0.019608 -2.302585\n",
       "9973        0     3  50.000000  0.019608 -2.302585\n",
       "9974        0     0  50.000000  0.051294 -2.302585\n",
       "9975        0     1  50.000000  0.038268 -2.302585\n",
       "9976        0     0  50.000000  0.019608 -2.302585\n",
       "9977        0     1  50.000000  0.019608 -2.302585\n",
       "9978        0     0  50.000000  0.022441 -2.302585\n",
       "9979        0     2  50.000000  0.019608 -2.302585\n",
       "9980        0     0  50.000000  0.019608 -2.302585\n",
       "9981        0     2  50.000000  0.044345 -2.302585\n",
       "9982        0     0  50.000000  0.019608 -2.302585\n",
       "9983        0     0  50.000000  0.019608 -2.302585\n",
       "9984        1    14   6.997372  0.297150 -2.302585\n",
       "9985        0     0  50.000000  0.019608 -2.302585\n",
       "9986        0     0  50.000000  0.019608 -2.302585\n",
       "9987        0     0  50.000000  0.019608 -2.302585\n",
       "9988        0     0  50.000000  0.019608 -2.302585\n",
       "9989        0     2  50.000000  0.044934 -2.302585\n",
       "9990        0     0  50.000000  0.028841 -2.302585\n",
       "9991        0     0  50.000000  0.236998 -2.302585\n",
       "9992        0     0  50.000000  0.040890 -2.302585\n",
       "9993        0     0  50.000000  0.019608 -2.302585\n",
       "9994        0     2  34.198420  0.028410 -2.302585\n",
       "9995        0     0  50.000000  0.019608 -2.302585\n",
       "9996        0     0  50.000000  0.019608 -2.302585\n",
       "9997        1    10  22.240470  0.373772  4.121635\n",
       "9998        0     2  50.000000  0.019608  3.808660\n",
       "9999        0     0  50.000000  0.383182 -2.302585\n",
       "\n",
       "[10000 rows x 5 columns]"
      ]
     },
     "execution_count": 31,
     "metadata": {},
     "output_type": "execute_result"
    }
   ],
   "source": [
    "# read Credit Scoring data into data frame\n",
    "y_var_name = 'purchase'\n",
    "X_var_names = [\n",
    "    'nTab',\n",
    "    'moCbook',\n",
    "    'iRecMer1',\n",
    "    'llDol']\n",
    "column_classes = dict(\n",
    "    purchase=int,\n",
    "    nTab=float,\n",
    "    moCbook=float,\n",
    "    iRecMer1=float,\n",
    "    llDol=float)\n",
    "\n",
    "data_repo_raw_path = 'https://raw.githubusercontent.com/ChicagoBoothML/DATA__Tabloid/master'\n",
    "tabloid_train = read_csv(\n",
    "    join(data_repo_raw_path, 'Tabloid_train.csv').replace('\\\\', '/'),\n",
    "    dtype=column_classes)\n",
    "\n",
    "tabloid_train.purchase = Categorical(tabloid_train.purchase)\n",
    "\n",
    "nb_train_samples = len(tabloid)\n",
    "\n",
    "tabloid_train"
   ]
  },
  {
   "cell_type": "markdown",
   "metadata": {},
   "source": [
    "Just to sanity-check, the classes of the variables are:"
   ]
  },
  {
   "cell_type": "code",
   "execution_count": 32,
   "metadata": {
    "collapsed": false
   },
   "outputs": [
    {
     "name": "stdout",
     "output_type": "stream",
     "text": [
      "purchase: category\n",
      "nTab: float64\n",
      "moCbook: float64\n",
      "iRecMer1: float64\n",
      "llDol: float64\n"
     ]
    }
   ],
   "source": [
    "#cs.apply(lambda col: col.dtype)\n",
    "\n",
    "for col_name in tabloid_train:\n",
    "    printflush('%s: %s' %(col_name, tabloid_train[col_name].dtype))"
   ]
  },
  {
   "cell_type": "markdown",
   "metadata": {},
   "source": [
    "The incidence of responsiveness to marketing in the Training set is:"
   ]
  },
  {
   "cell_type": "code",
   "execution_count": 33,
   "metadata": {
    "collapsed": false
   },
   "outputs": [
    {
     "data": {
      "text/plain": [
       "0.0258"
      ]
     },
     "execution_count": 33,
     "metadata": {},
     "output_type": "execute_result"
    }
   ],
   "source": [
    "sum(tabloid_train.purchase) / nb_train_samples"
   ]
  },
  {
   "cell_type": "markdown",
   "metadata": {},
   "source": [
    "Note that this creates a \"**skewed classes**\" problem: one of the classes of cases (here the \"delinquent\" class) is significantly rarer than the other.\n",
    "\n",
    "_(**note**: in more extreme cases where one class is much, much rarer than the other to the order of 1000 or 10,000 times, our model fitting procedures would need to be tweaked; but this case is not so extreme)_"
   ]
  },
  {
   "cell_type": "markdown",
   "metadata": {},
   "source": [
    "The proportions of missing data points per column in the Training set are as follows:"
   ]
  },
  {
   "cell_type": "code",
   "execution_count": 34,
   "metadata": {
    "collapsed": false
   },
   "outputs": [
    {
     "data": {
      "text/plain": [
       "purchase    0\n",
       "nTab        0\n",
       "moCbook     0\n",
       "iRecMer1    0\n",
       "llDol       0\n",
       "dtype: float64"
      ]
     },
     "execution_count": 34,
     "metadata": {},
     "output_type": "execute_result"
    }
   ],
   "source": [
    "tabloid_train.isnull().sum() / len(tabloid_train)"
   ]
  },
  {
   "cell_type": "markdown",
   "metadata": {},
   "source": [
    "Let's now split a bit of data from the Training set as a Validation set for the purpose of estimating OOS performance metrics:"
   ]
  },
  {
   "cell_type": "code",
   "execution_count": 35,
   "metadata": {
    "collapsed": false
   },
   "outputs": [],
   "source": [
    "tabloid_train, tabloid_valid = train_test_split(\n",
    "    tabloid_train,\n",
    "    train_size=2. / 3.,\n",
    "    random_state=RANDOM_SEED)"
   ]
  },
  {
   "cell_type": "markdown",
   "metadata": {
    "collapsed": false
   },
   "source": [
    "Just to sanity-check that the data sets have been split representatively: the delinquency incidences in the Training and Validation sets are:"
   ]
  },
  {
   "cell_type": "code",
   "execution_count": 36,
   "metadata": {
    "collapsed": false
   },
   "outputs": [
    {
     "name": "stdout",
     "output_type": "stream",
     "text": [
      "6666 obs: 0.025503 responsive\n",
      "3334 obs: 0.026395 responsive\n"
     ]
    }
   ],
   "source": [
    "for data_set in (tabloid_train, tabloid_valid):\n",
    "    printflush('%i obs: %f responsive' %(len(data_set), sum(data_set.purchase) / len(data_set)))"
   ]
  },
  {
   "cell_type": "markdown",
   "metadata": {},
   "source": [
    "# Classification Models\n",
    "\n",
    "Let's train 3 types of classification models: a Random Forest, a Boosted Trees model and a Logistic Regression."
   ]
  },
  {
   "cell_type": "code",
   "execution_count": 37,
   "metadata": {
    "collapsed": false
   },
   "outputs": [
    {
     "data": {
      "text/plain": [
       "RandomForestClassifier(bootstrap=True, class_weight=None, criterion='entropy',\n",
       "            max_depth=None, max_features=None, max_leaf_nodes=None,\n",
       "            min_samples_leaf=30, min_samples_split=60,\n",
       "            min_weight_fraction_leaf=0.0, n_estimators=1000, n_jobs=6,\n",
       "            oob_score=True, random_state=99, verbose=0, warm_start=False)"
      ]
     },
     "execution_count": 37,
     "metadata": {},
     "output_type": "execute_result"
    }
   ],
   "source": [
    "B = 1000\n",
    "\n",
    "rf_model = RandomForestClassifier(\n",
    "    n_estimators=B,\n",
    "    criterion='entropy',\n",
    "    max_depth=None,   # expand until all leaves are pure or contain < MIN_SAMPLES_SPLIT samples\n",
    "    min_samples_split=60,\n",
    "    min_samples_leaf=30,\n",
    "    min_weight_fraction_leaf=0.0,\n",
    "    max_features=None,   # number of features to consider when looking for the best split; None: max_features=n_features\n",
    "    max_leaf_nodes=None,   # None: unlimited number of leaf nodes\n",
    "    bootstrap=True,\n",
    "    oob_score=True,   # estimate Out-of-Bag Cross Entropy\n",
    "    n_jobs=cpu_count() - 2,   # paralellize over all CPU cores but 2\n",
    "    class_weight=None,    # our classes are skewed, but but too skewed\n",
    "    random_state=RANDOM_SEED,\n",
    "    verbose=0,\n",
    "    warm_start=False)\n",
    "\n",
    "rf_model.fit(X=tabloid_train[X_var_names], y=tabloid_train.purchase)"
   ]
  },
  {
   "cell_type": "code",
   "execution_count": 38,
   "metadata": {
    "collapsed": false
   },
   "outputs": [
    {
     "data": {
      "text/plain": [
       "GradientBoostingClassifier(init=None, learning_rate=0.01, loss='deviance',\n",
       "              max_depth=10, max_features=None, max_leaf_nodes=None,\n",
       "              min_samples_leaf=60, min_samples_split=120,\n",
       "              min_weight_fraction_leaf=0.0, n_estimators=1000,\n",
       "              random_state=99, subsample=1.0, verbose=0, warm_start=False)"
      ]
     },
     "execution_count": 38,
     "metadata": {},
     "output_type": "execute_result"
    }
   ],
   "source": [
    "B = 1000\n",
    "\n",
    "boost_model = GradientBoostingClassifier(\n",
    "    n_estimators=B,\n",
    "    loss='deviance',   # a.k.a Cross Entropy in Classification\n",
    "    learning_rate=.01,   # shrinkage parameter\n",
    "    subsample=1.,\n",
    "    min_samples_split=120,\n",
    "    min_samples_leaf=60,\n",
    "    min_weight_fraction_leaf=0.0,\n",
    "    max_depth=10,   # maximum tree depth / number of levels of interaction\n",
    "    init=None,\n",
    "    random_state=RANDOM_SEED,\n",
    "    max_features=None,   # number of features to consider when looking for the best split; None: max_features=n_features\n",
    "    verbose=0,\n",
    "    max_leaf_nodes=None,   # None: unlimited number of leaf nodes\n",
    "    warm_start=False)\n",
    "\n",
    "boost_model.fit(X=tabloid_train[X_var_names], y=tabloid_train.purchase)"
   ]
  },
  {
   "cell_type": "code",
   "execution_count": 39,
   "metadata": {
    "collapsed": false
   },
   "outputs": [
    {
     "data": {
      "text/plain": [
       "LogisticRegression(C=1000.0, class_weight=None, dual=False,\n",
       "          fit_intercept=True, intercept_scaling=1.0, max_iter=100,\n",
       "          multi_class='multinomial', penalty='l2', random_state=99,\n",
       "          solver='lbfgs', tol=0.0001, verbose=0)"
      ]
     },
     "execution_count": 39,
     "metadata": {},
     "output_type": "execute_result"
    }
   ],
   "source": [
    "log_reg_model = LogisticRegression(\n",
    "    penalty='l2',\n",
    "    dual=False,\n",
    "    tol=0.0001,\n",
    "    C=1e3,   # large C so as NOT to regularize too strongly\n",
    "    fit_intercept=True,\n",
    "    intercept_scaling=1.,\n",
    "    class_weight=None,\n",
    "    random_state=RANDOM_SEED,\n",
    "    solver='lbfgs',\n",
    "    max_iter=100,\n",
    "    multi_class='multinomial',\n",
    "    verbose=0)\n",
    "\n",
    "X_standard_scaler = StandardScaler()\n",
    "X_standard_scaler.fit(tabloid_train[X_var_names])\n",
    "log_reg_model.fit(\n",
    "    X=X_standard_scaler.transform(tabloid_train[X_var_names]),\n",
    "    y=tabloid_train.purchase)"
   ]
  },
  {
   "cell_type": "markdown",
   "metadata": {},
   "source": [
    "We'll now evaluate the OOS performances of these 3 models on the Validation set to select a model we think is best:"
   ]
  },
  {
   "cell_type": "code",
   "execution_count": 40,
   "metadata": {
    "collapsed": false
   },
   "outputs": [],
   "source": [
    "low_prob = 1e-6\n",
    "high_prob = 1 - low_prob\n",
    "log_low_prob = log(low_prob)\n",
    "log_high_prob = log(high_prob)\n",
    "log_prob_thresholds = linspace(start=log_low_prob, stop=log_high_prob, num=100)\n",
    "prob_thresholds = exp(log_prob_thresholds)"
   ]
  },
  {
   "cell_type": "code",
   "execution_count": 41,
   "metadata": {
    "collapsed": false
   },
   "outputs": [],
   "source": [
    "rf_pred_probs = rf_model.predict_proba(X=tabloid_valid[X_var_names])\n",
    "rf_oos_performance = bin_classif_eval(\n",
    "    rf_pred_probs[:, 1], tabloid_valid.purchase,\n",
    "    pos_cat=1, thresholds=prob_thresholds)"
   ]
  },
  {
   "cell_type": "code",
   "execution_count": 42,
   "metadata": {
    "collapsed": false
   },
   "outputs": [],
   "source": [
    "boost_pred_probs = boost_model.predict_proba(X=tabloid_valid[X_var_names])\n",
    "boost_oos_performance = bin_classif_eval(\n",
    "    boost_pred_probs[:, 1], tabloid_valid.purchase,\n",
    "    pos_cat=1, thresholds=prob_thresholds)"
   ]
  },
  {
   "cell_type": "code",
   "execution_count": 43,
   "metadata": {
    "collapsed": false
   },
   "outputs": [],
   "source": [
    "log_reg_pred_probs = log_reg_model.predict_proba(\n",
    "    X=X_standard_scaler.transform(tabloid_valid[X_var_names]))\n",
    "log_reg_oos_performance = bin_classif_eval(\n",
    "    log_reg_pred_probs[:, 1], tabloid_valid.purchase,\n",
    "    pos_cat=1, thresholds=prob_thresholds)"
   ]
  },
  {
   "cell_type": "code",
   "execution_count": 44,
   "metadata": {
    "collapsed": false
   },
   "outputs": [
    {
     "data": {
      "text/plain": [
       "<matplotlib.legend.Legend at 0x105ff4ed0>"
      ]
     },
     "execution_count": 44,
     "metadata": {},
     "output_type": "execute_result"
    },
    {
     "data": {
      "image/png": "[encoded data removed]",
      "text/plain": [
       "<matplotlib.figure.Figure at 0x10f3bd250>"
      ]
     },
     "metadata": {},
     "output_type": "display_data"
    }
   ],
   "source": [
    "figure(figsize=(8, 6))\n",
    "plot(\n",
    "    [0, 1], [0, 1],\n",
    "    linestyle='dotted')\n",
    "plot(\n",
    "    1 - rf_oos_performance.specificity,\n",
    "    rf_oos_performance.recall,\n",
    "    label='Random Forest')\n",
    "plot(\n",
    "    1 - boost_oos_performance.specificity,\n",
    "    boost_oos_performance.recall,\n",
    "    label='Boosted Trees')\n",
    "plot(\n",
    "    1 - log_reg_oos_performance.specificity,\n",
    "    log_reg_oos_performance.recall,\n",
    "    label='Logistic Regression')\n",
    "title('ROC Curves (Validation Data)')\n",
    "legend(loc='right')"
   ]
  },
  {
   "cell_type": "markdown",
   "metadata": {
    "collapsed": false
   },
   "source": [
    "We see that with suitable data, Logistic Regression is right up there with Random Forest and Boosted Trees in terms of OOS performance! Let's choose the Logistic Regression model for evaluation on the Test set.\n",
    "\n",
    "We now need to pick a decision threshold for the Boosted Trees model. If we are to be really rigorous, we'll need to inject some business knowledge, e.g. balancing the costs opportunity costs of missing out lucrative customers and the costs of targeted marketing. Here, to make life simple, we'll pick a subjective threshold that enables us to anticipate **80%** of the responsive cases:"
   ]
  },
  {
   "cell_type": "code",
   "execution_count": 45,
   "metadata": {
    "collapsed": false
   },
   "outputs": [
    {
     "data": {
      "text/plain": [
       "0.10722663230387419"
      ]
     },
     "execution_count": 45,
     "metadata": {},
     "output_type": "execute_result"
    }
   ],
   "source": [
    "recall_threshold = .8\n",
    "idx = next(i for i in range(100) if log_reg_oos_performance.recall[i] <= recall_threshold) - 1\n",
    "selected_prob_threshold = prob_thresholds[idx]\n",
    "selected_prob_threshold"
   ]
  },
  {
   "cell_type": "markdown",
   "metadata": {},
   "source": [
    "The OOS performance of the Logistic Regression algorithm at this threshold is as follows:"
   ]
  },
  {
   "cell_type": "code",
   "execution_count": 46,
   "metadata": {
    "collapsed": false
   },
   "outputs": [
    {
     "data": {
      "text/plain": [
       "threshold      0.107227\n",
       "accuracy       0.637972\n",
       "recall         0.818182\n",
       "specificity    0.633087\n",
       "precision      0.057007\n",
       "f1_score       0.106588\n",
       "deviance       0.346598\n",
       "Name: 83, dtype: float64"
      ]
     },
     "execution_count": 46,
     "metadata": {},
     "output_type": "execute_result"
    }
   ],
   "source": [
    "log_reg_oos_performance.iloc[idx, :]"
   ]
  },
  {
   "cell_type": "markdown",
   "metadata": {},
   "source": [
    "Note that there is trade-off: the precision of the model at this sensitivity threshold is rather low, meaning that there'll be many false positives, i.e. we may be spamming and annoying lots of people."
   ]
  },
  {
   "cell_type": "markdown",
   "metadata": {},
   "source": [
    "# Test Performance of Selected Model"
   ]
  },
  {
   "cell_type": "code",
   "execution_count": 47,
   "metadata": {
    "collapsed": true
   },
   "outputs": [],
   "source": [
    "tabloid_test = read_csv(\n",
    "    join(data_repo_raw_path, 'Tabloid_test.csv').replace('\\\\', '/'),\n",
    "    dtype=column_classes)\n",
    "\n",
    "tabloid_test.purchase = Categorical(tabloid_test.purchase)"
   ]
  },
  {
   "cell_type": "markdown",
   "metadata": {},
   "source": [
    "The expected performance of the model on the Test set at the decision threshold determined above is as follows:"
   ]
  },
  {
   "cell_type": "code",
   "execution_count": 48,
   "metadata": {
    "collapsed": false
   },
   "outputs": [
    {
     "data": {
      "text/plain": [
       "{'accuracy': 0.64080000000000004,\n",
       " 'deviance': 0.3318770258807799,\n",
       " 'f1_score': 0.08832487309644671,\n",
       " 'precision': 0.046824542518837463,\n",
       " 'recall': 0.7767857142857143,\n",
       " 'specificity': 0.63768412438625199}"
      ]
     },
     "execution_count": 48,
     "metadata": {},
     "output_type": "execute_result"
    }
   ],
   "source": [
    "log_reg_pred_probs = log_reg_model.predict_proba(\n",
    "    X=X_standard_scaler.transform(tabloid_test[X_var_names]))\n",
    "log_reg_oos_performance = bin_classif_eval(\n",
    "    log_reg_pred_probs[:, 1], tabloid_test.purchase,\n",
    "    pos_cat=1, thresholds=selected_prob_threshold)\n",
    "log_reg_oos_performance"
   ]
  },
  {
   "cell_type": "markdown",
   "metadata": {},
   "source": [
    "We can see that the Test performance is broadly similar to what we've estimated from the Validation set. The selected model works as expected: we'll get responsiveness from >70% of the targeted customers, but our reputation as a spamming organization will also be reinforced..."
   ]
  }
 ],
 "metadata": {
  "kernelspec": {
   "display_name": "Python 2",
   "language": "python",
   "name": "python2"
  },
  "language_info": {
   "codemirror_mode": {
    "name": "ipython",
    "version": 2
   },
   "file_extension": ".py",
   "mimetype": "text/x-python",
   "name": "python",
   "nbconvert_exporter": "python",
   "pygments_lexer": "ipython2",
   "version": "2.7.10"
  }
 },
 "nbformat": 4,
 "nbformat_minor": 0
}
